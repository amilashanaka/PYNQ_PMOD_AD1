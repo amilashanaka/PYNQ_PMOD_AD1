{
 "cells": [
  {
   "cell_type": "code",
   "execution_count": 1,
   "metadata": {},
   "outputs": [
    {
     "data": {
      "application/javascript": [
       "\n",
       "try {\n",
       "require(['notebook/js/codecell'], function(codecell) {\n",
       "  codecell.CodeCell.options_default.highlight_modes[\n",
       "      'magic_text/x-csrc'] = {'reg':[/^%%microblaze/]};\n",
       "  Jupyter.notebook.events.one('kernel_ready.Kernel', function(){\n",
       "      Jupyter.notebook.get_cells().map(function(cell){\n",
       "          if (cell.cell_type == 'code'){ cell.auto_highlight(); } }) ;\n",
       "  });\n",
       "});\n",
       "} catch (e) {};\n"
      ]
     },
     "metadata": {},
     "output_type": "display_data"
    }
   ],
   "source": [
    "import pynq\n",
    "from pynq import Overlay\n",
    "from pynq import DefaultIP\n",
    "from pynq import MMIO\n",
    "import time\n",
    "from operator import*\n",
    "import matplotlib.pyplot as plt\n",
    "\n",
    "# Load the SPI overlay\n",
    "ol = Overlay(\"pmod_ad1.bit\")"
   ]
  },
  {
   "cell_type": "code",
   "execution_count": 2,
   "metadata": {},
   "outputs": [],
   "source": [
    "ad1_ip = ol.PmodAD1_0"
   ]
  },
  {
   "cell_type": "code",
   "execution_count": 4,
   "metadata": {},
   "outputs": [
    {
     "name": "stdout",
     "output_type": "stream",
     "text": [
      "{'PmodAD1_0': {'fullpath': 'PmodAD1_0', 'type': 'digilentinc.com:IP:PmodAD1:1.0', 'state': None, 'addr_range': 65536, 'phys_addr': 1136656384, 'mem_id': 'AXI_LITE_SAMPLE', 'gpio': {}, 'interrupts': {}, 'parameters': {'AD1_CLOCKS_AFTER_DATA': '500', 'AD1_CLOCKS_BEFORE_DATA': '60', 'AD1_CLOCKS_BETWEEN_TRANSACTIONS': '400', 'AD1_CLOCKS_PER_BIT': '20', 'C_S00_AXI_ADDR_WIDTH': '4', 'C_S00_AXI_DATA_WIDTH': '32', 'INCLUDE_DEBUG_INTERFACE': 'false', 'Component_Name': 'pmod_ad1_PmodAD1_0_0', 'PMOD': 'ja', 'USE_BOARD_FLOW': 'true', 'EDK_IPTYPE': 'PERIPHERAL', 'AXI_LITE_SAMPLE_BASEADDR': '0x43C00000', 'AXI_LITE_SAMPLE_HIGHADDR': '0x43C0FFFF'}, 'registers': {}, 'device': <pynq.pl_server.device.XlnkDevice object at 0xb03d5750>, 'driver': <class 'pynq.overlay.DefaultIP'>}}\n"
     ]
    }
   ],
   "source": [
    "print(ol.ip_dict)"
   ]
  },
  {
   "cell_type": "code",
   "execution_count": 4,
   "metadata": {},
   "outputs": [],
   "source": [
    "# Function to read data from PmodAD1\n",
    "def read_adc(channel):\n",
    "    # Reading raw data from the data register\n",
    "    register_address = 0x00 + (channel * 0x01)  # Ensure channel data is aligned to 4-byte boundary\n",
    "    raw_data = ad1_ip.read(register_address)\n",
    "    \n",
    "    # Extract the 12-bit ADC value (assuming 12-bit data in 32-bit register)\n",
    "    adc_value = raw_data & 0x0FFF  # Mask to get the lower 12 bits\n",
    "    \n",
    "    return adc_value"
   ]
  },
  {
   "cell_type": "code",
   "execution_count": 5,
   "metadata": {},
   "outputs": [
    {
     "name": "stdout",
     "output_type": "stream",
     "text": [
      "ADC Data: 3348\n"
     ]
    }
   ],
   "source": [
    "\n",
    "adc_data = read_adc(0)\n",
    "print(f\"ADC Data: {adc_data}\")\n"
   ]
  },
  {
   "cell_type": "code",
   "execution_count": 6,
   "metadata": {},
   "outputs": [],
   "source": [
    "# Function to read data from both channels of PMOD AD1 and plot it\n",
    "def read_pmod_adc():\n",
    "    values_channel_0 = []  # List to store Channel 0 readings\n",
    "\n",
    "    for _ in range(200):  # Take 100 readings\n",
    "        # Read from channel 0\n",
    "        value_channel_0 = read_adc(0)  # Read from Channel 0\n",
    "        value_channel_0_scaled = value_channel_0   # Scale the value for readability\n",
    "\n",
    "        # Append the value to the list\n",
    "        values_channel_0.append(value_channel_0_scaled)\n",
    "\n",
    "        # Print the value from Channel 0\n",
    "        #print(value_channel_0_scaled)\n",
    "        \n",
    "        # Sleep for 0.1 seconds between readings\n",
    "        time.sleep(0.01)\n",
    "\n",
    "    # Plot the collected data\n",
    "    plt.plot(values_channel_0)\n",
    "    plt.title('ADC Channel 0 Data Plot')\n",
    "    plt.xlabel('Reading Index')\n",
    "    plt.ylabel('Value (Scaled)')\n",
    "    plt.grid(True)\n",
    "    plt.show()"
   ]
  },
  {
   "cell_type": "code",
   "execution_count": 7,
   "metadata": {},
   "outputs": [
    {
     "data": {
      "image/png": "[encoded data removed]",
      "text/plain": [
       "<matplotlib.figure.Figure at 0xae9f2db0>"
      ]
     },
     "metadata": {},
     "output_type": "display_data"
    }
   ],
   "source": [
    "# Call the function to start reading data and plot it\n",
    "read_pmod_adc()\n"
   ]
  },
  {
   "cell_type": "code",
   "execution_count": null,
   "metadata": {},
   "outputs": [],
   "source": []
  }
 ],
 "metadata": {
  "kernelspec": {
   "display_name": "Python 3",
   "language": "python",
   "name": "python3"
  },
  "language_info": {
   "codemirror_mode": {
    "name": "ipython",
    "version": 3
   },
   "file_extension": ".py",
   "mimetype": "text/x-python",
   "name": "python",
   "nbconvert_exporter": "python",
   "pygments_lexer": "ipython3",
   "version": "3.6.5"
  }
 },
 "nbformat": 4,
 "nbformat_minor": 2
}
